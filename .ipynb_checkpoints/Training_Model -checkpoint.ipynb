{
 "cells": [
  {
   "cell_type": "markdown",
   "id": "4aae3a8e",
   "metadata": {},
   "source": [
    "## Prepare"
   ]
  },
  {
   "cell_type": "code",
   "execution_count": 42,
   "id": "b895fc2d",
   "metadata": {},
   "outputs": [],
   "source": [
    "# importing packages\n",
    "import seaborn as sns\n",
    "import pandas as pd\n",
    "import os\n",
    "from sklearn.model_selection import train_test_split\n",
    "from sklearn.pipeline import Pipeline\n",
    "from sklearn.preprocessing import StandardScaler, MinMaxScaler, MaxAbsScaler, RobustScaler, Normalizer\n",
    "from sklearn.metrics import accuracy_score\n",
    "from sklearn.metrics import accuracy_score, balanced_accuracy_score\n",
    "from imblearn.over_sampling import SVMSMOTE"
   ]
  },
  {
   "cell_type": "code",
   "execution_count": 43,
   "id": "b319a68d",
   "metadata": {},
   "outputs": [
    {
     "name": "stdout",
     "output_type": "stream",
     "text": [
      "F:\\Parkinson-Disease\n",
      "F:\\Parkinson-Disease\\Data set\\Parkinson disease.csv\n"
     ]
    }
   ],
   "source": [
    "#Data\n",
    "print(os.getcwd())\n",
    "data_dir = os.getcwd() + \"\\\\Data set\\\\Parkinson disease.csv\"\n",
    "print(data_dir)"
   ]
  },
  {
   "cell_type": "code",
   "execution_count": 44,
   "id": "eb54c013",
   "metadata": {},
   "outputs": [
    {
     "data": {
      "text/plain": [
       "Index(['name', 'MDVP:Fo(Hz)', 'MDVP:Fhi(Hz)', 'MDVP:Flo(Hz)', 'MDVP:Jitter(%)',\n",
       "       'MDVP:Jitter(Abs)', 'MDVP:RAP', 'MDVP:PPQ', 'Jitter:DDP',\n",
       "       'MDVP:Shimmer', 'MDVP:Shimmer(dB)', 'Shimmer:APQ3', 'Shimmer:APQ5',\n",
       "       'MDVP:APQ', 'Shimmer:DDA', 'NHR', 'HNR', 'status', 'RPDE', 'DFA',\n",
       "       'spread1', 'spread2', 'D2', 'PPE'],\n",
       "      dtype='object')"
      ]
     },
     "execution_count": 44,
     "metadata": {},
     "output_type": "execute_result"
    }
   ],
   "source": [
    "df_parkinson = pd.read_csv(data_dir, delimiter = \",\")\n",
    "df_parkinson.head()\n",
    "df_parkinson.columns"
   ]
  },
  {
   "cell_type": "code",
   "execution_count": 45,
   "id": "2d6de6a3",
   "metadata": {},
   "outputs": [],
   "source": [
    "# #dropna drops missing values\n",
    "# df_parkinson_miss = df_parkinson.dropna(axis=0)\n",
    "# # print(df_parkinson_miss)\n",
    "# df_parkinson = df_parkinson.drop(['name'], axis=1).head()\n",
    "# df_parkinson.head()"
   ]
  },
  {
   "cell_type": "markdown",
   "id": "96a0bbcf",
   "metadata": {},
   "source": [
    "## Split data"
   ]
  },
  {
   "cell_type": "code",
   "execution_count": 59,
   "id": "94343074",
   "metadata": {},
   "outputs": [
    {
     "name": "stdout",
     "output_type": "stream",
     "text": [
      "(195, 21) (195,)\n"
     ]
    }
   ],
   "source": [
    "X=df_parkinson.iloc[:, :-1]\n",
    "y = df_parkinson.status\n",
    "X=X.drop(columns=[\"status\",'name'])\n",
    "print(X.shape,y.shape)"
   ]
  },
  {
   "cell_type": "code",
   "execution_count": 60,
   "id": "054b7336",
   "metadata": {},
   "outputs": [],
   "source": [
    "# split the dataset\n",
    "X_train, X_test, y_train, y_test = train_test_split( X, y, test_size=0.3, random_state=0)"
   ]
  },
  {
   "cell_type": "code",
   "execution_count": 61,
   "id": "2d1c06d4",
   "metadata": {},
   "outputs": [
    {
     "name": "stdout",
     "output_type": "stream",
     "text": [
      "X_train : \n",
      "     MDVP:Fo(Hz)  MDVP:Fhi(Hz)  MDVP:Flo(Hz)  MDVP:Jitter(%)  \\\n",
      "149      202.632       565.740       177.258         0.01627   \n",
      "180      150.440       163.441       144.736         0.00396   \n",
      "54       108.807       134.656       102.874         0.00761   \n",
      "159      127.930       138.752       112.173         0.00605   \n",
      "16       144.188       349.259        82.764         0.00544   \n",
      "\n",
      "     MDVP:Jitter(Abs)  MDVP:RAP  MDVP:PPQ  Jitter:DDP  MDVP:Shimmer  \\\n",
      "149           0.00008   0.00919   0.00963     0.02756       0.07170   \n",
      "180           0.00003   0.00206   0.00233     0.00619       0.02551   \n",
      "54            0.00007   0.00349   0.00486     0.01046       0.02719   \n",
      "159           0.00005   0.00321   0.00318     0.00962       0.03235   \n",
      "16            0.00004   0.00211   0.00292     0.00632       0.02047   \n",
      "\n",
      "     MDVP:Shimmer(dB)  ...  Shimmer:APQ5  MDVP:APQ  Shimmer:DDA      NHR  \\\n",
      "149             0.833  ...       0.04265   0.06460      0.10546  0.07889   \n",
      "180             0.237  ...       0.01574   0.02148      0.03964  0.00611   \n",
      "54              0.255  ...       0.01609   0.02067      0.04450  0.01036   \n",
      "159             0.339  ...       0.01650   0.03105      0.04079  0.02663   \n",
      "16              0.192  ...       0.01200   0.02074      0.02908  0.01859   \n",
      "\n",
      "        HNR      RPDE       DFA   spread1   spread2        D2  \n",
      "149  14.989  0.427627  0.775708 -4.892495  0.262281  2.910213  \n",
      "180  23.133  0.352396  0.759320 -6.261446  0.183218  2.264226  \n",
      "54   21.028  0.536009  0.819032 -4.649573  0.205558  1.986899  \n",
      "159  19.651  0.654945  0.675865 -5.498456  0.234196  2.103014  \n",
      "16   22.333  0.567380  0.644692 -5.440040  0.239764  2.264501  \n",
      "\n",
      "[5 rows x 21 columns]\n",
      "\n",
      "X_test : \n",
      "     MDVP:Fo(Hz)  MDVP:Fhi(Hz)  MDVP:Flo(Hz)  MDVP:Jitter(%)  \\\n",
      "83        98.804       102.305        87.804         0.00432   \n",
      "12       136.926       159.866       131.276         0.00293   \n",
      "33       202.266       211.604       197.079         0.00180   \n",
      "113      210.141       232.706       185.258         0.00534   \n",
      "171      112.547       133.374       105.715         0.00355   \n",
      "\n",
      "     MDVP:Jitter(Abs)  MDVP:RAP  MDVP:PPQ  Jitter:DDP  MDVP:Shimmer  \\\n",
      "83           0.000040   0.00247   0.00258     0.00742       0.02223   \n",
      "12           0.000020   0.00118   0.00153     0.00355       0.01259   \n",
      "33           0.000009   0.00093   0.00107     0.00278       0.00954   \n",
      "113          0.000030   0.00321   0.00280     0.00964       0.01680   \n",
      "171          0.000030   0.00166   0.00190     0.00499       0.01358   \n",
      "\n",
      "     MDVP:Shimmer(dB)  ...  Shimmer:APQ5  MDVP:APQ  Shimmer:DDA      NHR  \\\n",
      "83              0.202  ...       0.01343   0.01552      0.03831  0.00882   \n",
      "12              0.112  ...       0.00717   0.01140      0.01968  0.00581   \n",
      "33              0.085  ...       0.00606   0.00719      0.01407  0.00072   \n",
      "113             0.149  ...       0.01017   0.01301      0.02583  0.00620   \n",
      "171             0.129  ...       0.00786   0.01140      0.01992  0.00435   \n",
      "\n",
      "        HNR      RPDE       DFA   spread1   spread2        D2  \n",
      "83   22.244  0.576644  0.772416 -6.025367  0.078202  2.053601  \n",
      "12   25.703  0.460600  0.646846 -6.547148  0.152813  2.041277  \n",
      "33   32.684  0.368535  0.742133 -7.695734  0.178540  1.544609  \n",
      "113  23.671  0.441097  0.722254 -5.963040  0.250283  2.489191  \n",
      "171  26.436  0.413295  0.756700 -6.323531  0.218885  2.193412  \n",
      "\n",
      "[5 rows x 21 columns]\n",
      "\n",
      "y_train : \n",
      "149    1\n",
      "180    1\n",
      "54     1\n",
      "159    1\n",
      "16     1\n",
      "Name: status, dtype: int64\n",
      "\n",
      "y_test : \n",
      "83     1\n",
      "12     1\n",
      "33     0\n",
      "113    1\n",
      "171    0\n",
      "Name: status, dtype: int64\n"
     ]
    }
   ],
   "source": [
    "print('X_train : ')\n",
    "print(X_train.head())\n",
    "print('')\n",
    "print('X_test : ')\n",
    "print(X_test.head())\n",
    "print('')\n",
    "print('y_train : ')\n",
    "print(y_train.head())\n",
    "print('')\n",
    "print('y_test : ')\n",
    "print(y_test.head())"
   ]
  },
  {
   "cell_type": "markdown",
   "id": "07d41694",
   "metadata": {},
   "source": [
    "## Training model "
   ]
  },
  {
   "cell_type": "code",
   "execution_count": 62,
   "id": "2138cc75",
   "metadata": {},
   "outputs": [],
   "source": [
    "from sklearn.tree import DecisionTreeRegressor\n",
    "from sklearn.metrics import accuracy_score"
   ]
  },
  {
   "cell_type": "code",
   "execution_count": 63,
   "id": "c6aaba29",
   "metadata": {},
   "outputs": [],
   "source": [
    "# X = df_parkinson.drop(['status'], axis=1)\n",
    "# y = df_parkinson.status\n",
    "# # smote = SVMSMOTE()\n",
    "# # X_smote, y_smote = smote.fit_resample(X, y)\n",
    "# X_train, X_test, y_train, y_test = train_test_split(X, y, test_size=0.2) # 80% training and 20% test\n",
    "# y_test.head()"
   ]
  },
  {
   "cell_type": "code",
   "execution_count": 64,
   "id": "e0b7bb52",
   "metadata": {},
   "outputs": [
    {
     "name": "stdout",
     "output_type": "stream",
     "text": [
      "[[ 1.20277786  3.55007322  1.46378495 ...  0.7318629   0.37523479\n",
      "   1.38253798]\n",
      " [-0.08490869 -0.40139205  0.69127853 ... -0.49097785 -0.57555776\n",
      "  -0.31740397]\n",
      " [-1.11208247 -0.68412437 -0.30308418 ...  0.94885747 -0.30690231\n",
      "  -1.04720163]\n",
      " ...\n",
      " [ 0.41632981  2.41567671 -0.86941153 ...  0.99507428  1.69605993\n",
      "   1.55536714]\n",
      " [ 2.43201619  0.56163635  1.59509347 ... -1.43611306 -0.36324299\n",
      "  -0.93743211]\n",
      " [-1.06441596 -0.89097029 -0.36804959 ... -0.33387069 -0.46543789\n",
      "  -1.3048217 ]]\n"
     ]
    }
   ],
   "source": [
    "# Scale \n",
    "scaler = StandardScaler()\n",
    "X_scale = scaler.fit_transform(X_train)\n",
    "print(X_scale)"
   ]
  },
  {
   "cell_type": "code",
   "execution_count": 68,
   "id": "8c8c6c0a",
   "metadata": {},
   "outputs": [
    {
     "name": "stdout",
     "output_type": "stream",
     "text": [
      "Model accuracy score : 91.53%\n"
     ]
    }
   ],
   "source": [
    "from sklearn.tree import DecisionTreeClassifier\n",
    "DT_model = DecisionTreeRegressor(random_state = 0) \n",
    "DT_model.fit(X_train, y_train)\n",
    "DT_y_pred = DT_model.predict(X_test)\n",
    "print('Model accuracy score : {:0.2%}'. format(accuracy_score(y_test, DT_y_pred)))"
   ]
  },
  {
   "cell_type": "code",
   "execution_count": 69,
   "id": "cdabe2ee",
   "metadata": {},
   "outputs": [
    {
     "name": "stdout",
     "output_type": "stream",
     "text": [
      "Model accuracy score with criterion entropy: 94.92%\n"
     ]
    }
   ],
   "source": [
    "from sklearn.ensemble import RandomForestClassifier\n",
    "rf_classifier = RandomForestClassifier()\n",
    "rf_classifier.fit(X_train, y_train)\n",
    "rf_y_pred = rf_classifier.predict(X_test)\n",
    "print('Model accuracy score with criterion entropy: {:0.2%}'. format(accuracy_score(y_test, rf_y_pred)))"
   ]
  }
 ],
 "metadata": {
  "kernelspec": {
   "display_name": "Python 3 (ipykernel)",
   "language": "python",
   "name": "python3"
  },
  "language_info": {
   "codemirror_mode": {
    "name": "ipython",
    "version": 3
   },
   "file_extension": ".py",
   "mimetype": "text/x-python",
   "name": "python",
   "nbconvert_exporter": "python",
   "pygments_lexer": "ipython3",
   "version": "3.10.4"
  }
 },
 "nbformat": 4,
 "nbformat_minor": 5
}
