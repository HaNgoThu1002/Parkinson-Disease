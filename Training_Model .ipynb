{
 "cells": [
  {
   "cell_type": "markdown",
   "id": "4aae3a8e",
   "metadata": {},
   "source": [
    "## Prepare"
   ]
  },
  {
   "cell_type": "code",
   "execution_count": 86,
   "id": "b895fc2d",
   "metadata": {},
   "outputs": [],
   "source": [
    "# importing packages\n",
    "import seaborn as sns\n",
    "import pandas as pd\n",
    "import matplotlib.pyplot as plt\n",
    "import numpy as np\n",
    "import os\n",
    "from sklearn.model_selection import train_test_split\n",
    "from sklearn.pipeline import Pipeline\n",
    "from sklearn.preprocessing import StandardScaler, MinMaxScaler, MaxAbsScaler, RobustScaler, Normalizer\n",
    "from sklearn.metrics import accuracy_score\n",
    "from sklearn.metrics import accuracy_score, balanced_accuracy_score\n",
    "from imblearn.over_sampling import SVMSMOTE"
   ]
  },
  {
   "cell_type": "code",
   "execution_count": 87,
   "id": "b319a68d",
   "metadata": {},
   "outputs": [
    {
     "name": "stdout",
     "output_type": "stream",
     "text": [
      "F:\\Parkinson-Disease\n",
      "F:\\Parkinson-Disease\\Data set\\Parkinson disease.csv\n"
     ]
    }
   ],
   "source": [
    "#Data\n",
    "print(os.getcwd())\n",
    "data_dir = os.getcwd() + \"\\\\Data set\\\\Parkinson disease.csv\"\n",
    "print(data_dir)"
   ]
  },
  {
   "cell_type": "code",
   "execution_count": 88,
   "id": "eb54c013",
   "metadata": {},
   "outputs": [
    {
     "name": "stdout",
     "output_type": "stream",
     "text": [
      "<class 'pandas.core.frame.DataFrame'>\n",
      "RangeIndex: 195 entries, 0 to 194\n",
      "Data columns (total 24 columns):\n",
      " #   Column            Non-Null Count  Dtype  \n",
      "---  ------            --------------  -----  \n",
      " 0   name              195 non-null    object \n",
      " 1   MDVP:Fo(Hz)       195 non-null    float64\n",
      " 2   MDVP:Fhi(Hz)      195 non-null    float64\n",
      " 3   MDVP:Flo(Hz)      195 non-null    float64\n",
      " 4   MDVP:Jitter(%)    195 non-null    float64\n",
      " 5   MDVP:Jitter(Abs)  195 non-null    float64\n",
      " 6   MDVP:RAP          195 non-null    float64\n",
      " 7   MDVP:PPQ          195 non-null    float64\n",
      " 8   Jitter:DDP        195 non-null    float64\n",
      " 9   MDVP:Shimmer      195 non-null    float64\n",
      " 10  MDVP:Shimmer(dB)  195 non-null    float64\n",
      " 11  Shimmer:APQ3      195 non-null    float64\n",
      " 12  Shimmer:APQ5      195 non-null    float64\n",
      " 13  MDVP:APQ          195 non-null    float64\n",
      " 14  Shimmer:DDA       195 non-null    float64\n",
      " 15  NHR               195 non-null    float64\n",
      " 16  HNR               195 non-null    float64\n",
      " 17  status            195 non-null    int64  \n",
      " 18  RPDE              195 non-null    float64\n",
      " 19  DFA               195 non-null    float64\n",
      " 20  spread1           195 non-null    float64\n",
      " 21  spread2           195 non-null    float64\n",
      " 22  D2                195 non-null    float64\n",
      " 23  PPE               195 non-null    float64\n",
      "dtypes: float64(22), int64(1), object(1)\n",
      "memory usage: 36.7+ KB\n"
     ]
    },
    {
     "data": {
      "text/plain": [
       "Index(['name', 'MDVP:Fo(Hz)', 'MDVP:Fhi(Hz)', 'MDVP:Flo(Hz)', 'MDVP:Jitter(%)',\n",
       "       'MDVP:Jitter(Abs)', 'MDVP:RAP', 'MDVP:PPQ', 'Jitter:DDP',\n",
       "       'MDVP:Shimmer', 'MDVP:Shimmer(dB)', 'Shimmer:APQ3', 'Shimmer:APQ5',\n",
       "       'MDVP:APQ', 'Shimmer:DDA', 'NHR', 'HNR', 'status', 'RPDE', 'DFA',\n",
       "       'spread1', 'spread2', 'D2', 'PPE'],\n",
       "      dtype='object')"
      ]
     },
     "execution_count": 88,
     "metadata": {},
     "output_type": "execute_result"
    }
   ],
   "source": [
    "df_parkinson = pd.read_csv(data_dir, delimiter = \",\")\n",
    "df_parkinson.info()\n",
    "df_parkinson.columns"
   ]
  },
  {
   "cell_type": "code",
   "execution_count": 89,
   "id": "85de0259",
   "metadata": {},
   "outputs": [],
   "source": [
    "#sns.pairplot(df_parkinson, hue='status', size=1.2, diag_kind = 'kde')\n",
    "#plt.show()"
   ]
  },
  {
   "cell_type": "code",
   "execution_count": 90,
   "id": "2d6de6a3",
   "metadata": {},
   "outputs": [
    {
     "name": "stdout",
     "output_type": "stream",
     "text": [
      "               name  MDVP:Fo(Hz)  MDVP:Fhi(Hz)  MDVP:Flo(Hz)  MDVP:Jitter(%)  \\\n",
      "0    phon_R01_S01_1      119.992       157.302        74.997         0.00784   \n",
      "1    phon_R01_S01_2      122.400       148.650       113.819         0.00968   \n",
      "2    phon_R01_S01_3      116.682       131.111       111.555         0.01050   \n",
      "3    phon_R01_S01_4      116.676       137.871       111.366         0.00997   \n",
      "4    phon_R01_S01_5      116.014       141.781       110.655         0.01284   \n",
      "..              ...          ...           ...           ...             ...   \n",
      "190  phon_R01_S50_2      174.188       230.978        94.261         0.00459   \n",
      "191  phon_R01_S50_3      209.516       253.017        89.488         0.00564   \n",
      "192  phon_R01_S50_4      174.688       240.005        74.287         0.01360   \n",
      "193  phon_R01_S50_5      198.764       396.961        74.904         0.00740   \n",
      "194  phon_R01_S50_6      214.289       260.277        77.973         0.00567   \n",
      "\n",
      "     MDVP:Jitter(Abs)  MDVP:RAP  MDVP:PPQ  Jitter:DDP  MDVP:Shimmer  ...  \\\n",
      "0             0.00007   0.00370   0.00554     0.01109       0.04374  ...   \n",
      "1             0.00008   0.00465   0.00696     0.01394       0.06134  ...   \n",
      "2             0.00009   0.00544   0.00781     0.01633       0.05233  ...   \n",
      "3             0.00009   0.00502   0.00698     0.01505       0.05492  ...   \n",
      "4             0.00011   0.00655   0.00908     0.01966       0.06425  ...   \n",
      "..                ...       ...       ...         ...           ...  ...   \n",
      "190           0.00003   0.00263   0.00259     0.00790       0.04087  ...   \n",
      "191           0.00003   0.00331   0.00292     0.00994       0.02751  ...   \n",
      "192           0.00008   0.00624   0.00564     0.01873       0.02308  ...   \n",
      "193           0.00004   0.00370   0.00390     0.01109       0.02296  ...   \n",
      "194           0.00003   0.00295   0.00317     0.00885       0.01884  ...   \n",
      "\n",
      "     Shimmer:DDA      NHR     HNR  status      RPDE       DFA   spread1  \\\n",
      "0        0.06545  0.02211  21.033       1  0.414783  0.815285 -4.813031   \n",
      "1        0.09403  0.01929  19.085       1  0.458359  0.819521 -4.075192   \n",
      "2        0.08270  0.01309  20.651       1  0.429895  0.825288 -4.443179   \n",
      "3        0.08771  0.01353  20.644       1  0.434969  0.819235 -4.117501   \n",
      "4        0.10470  0.01767  19.649       1  0.417356  0.823484 -3.747787   \n",
      "..           ...      ...     ...     ...       ...       ...       ...   \n",
      "190      0.07008  0.02764  19.517       0  0.448439  0.657899 -6.538586   \n",
      "191      0.04812  0.01810  19.147       0  0.431674  0.683244 -6.195325   \n",
      "192      0.03804  0.10715  17.883       0  0.407567  0.655683 -6.787197   \n",
      "193      0.03794  0.07223  19.020       0  0.451221  0.643956 -6.744577   \n",
      "194      0.03078  0.04398  21.209       0  0.462803  0.664357 -5.724056   \n",
      "\n",
      "      spread2        D2       PPE  \n",
      "0    0.266482  2.301442  0.284654  \n",
      "1    0.335590  2.486855  0.368674  \n",
      "2    0.311173  2.342259  0.332634  \n",
      "3    0.334147  2.405554  0.368975  \n",
      "4    0.234513  2.332180  0.410335  \n",
      "..        ...       ...       ...  \n",
      "190  0.121952  2.657476  0.133050  \n",
      "191  0.129303  2.784312  0.168895  \n",
      "192  0.158453  2.679772  0.131728  \n",
      "193  0.207454  2.138608  0.123306  \n",
      "194  0.190667  2.555477  0.148569  \n",
      "\n",
      "[195 rows x 24 columns]\n"
     ]
    }
   ],
   "source": [
    "#dropna drops missing values\n",
    "df_parkinson_miss = df_parkinson.dropna(axis=0)\n",
    "print(df_parkinson_miss)"
   ]
  },
  {
   "cell_type": "markdown",
   "id": "96a0bbcf",
   "metadata": {},
   "source": [
    "## Split data"
   ]
  },
  {
   "cell_type": "code",
   "execution_count": 91,
   "id": "94343074",
   "metadata": {},
   "outputs": [
    {
     "name": "stdout",
     "output_type": "stream",
     "text": [
      "(195, 22) (195,)\n"
     ]
    }
   ],
   "source": [
    "X=(df_parkinson.iloc[:,1:]).drop(columns=[\"status\"])\n",
    "y = df_parkinson.status\n",
    "print(X.shape,y.shape)"
   ]
  },
  {
   "cell_type": "code",
   "execution_count": 92,
   "id": "054b7336",
   "metadata": {},
   "outputs": [],
   "source": [
    "# split the dataset\n",
    "X_train, X_test, y_train, y_test = train_test_split( X, y, test_size=0.3, random_state=0)"
   ]
  },
  {
   "cell_type": "code",
   "execution_count": 93,
   "id": "2d1c06d4",
   "metadata": {},
   "outputs": [
    {
     "name": "stdout",
     "output_type": "stream",
     "text": [
      "X_train : \n",
      "     MDVP:Fo(Hz)  MDVP:Fhi(Hz)  MDVP:Flo(Hz)  MDVP:Jitter(%)  \\\n",
      "149      202.632       565.740       177.258         0.01627   \n",
      "180      150.440       163.441       144.736         0.00396   \n",
      "54       108.807       134.656       102.874         0.00761   \n",
      "159      127.930       138.752       112.173         0.00605   \n",
      "16       144.188       349.259        82.764         0.00544   \n",
      "\n",
      "     MDVP:Jitter(Abs)  MDVP:RAP  MDVP:PPQ  Jitter:DDP  MDVP:Shimmer  \\\n",
      "149           0.00008   0.00919   0.00963     0.02756       0.07170   \n",
      "180           0.00003   0.00206   0.00233     0.00619       0.02551   \n",
      "54            0.00007   0.00349   0.00486     0.01046       0.02719   \n",
      "159           0.00005   0.00321   0.00318     0.00962       0.03235   \n",
      "16            0.00004   0.00211   0.00292     0.00632       0.02047   \n",
      "\n",
      "     MDVP:Shimmer(dB)  ...  MDVP:APQ  Shimmer:DDA      NHR     HNR      RPDE  \\\n",
      "149             0.833  ...   0.06460      0.10546  0.07889  14.989  0.427627   \n",
      "180             0.237  ...   0.02148      0.03964  0.00611  23.133  0.352396   \n",
      "54              0.255  ...   0.02067      0.04450  0.01036  21.028  0.536009   \n",
      "159             0.339  ...   0.03105      0.04079  0.02663  19.651  0.654945   \n",
      "16              0.192  ...   0.02074      0.02908  0.01859  22.333  0.567380   \n",
      "\n",
      "          DFA   spread1   spread2        D2       PPE  \n",
      "149  0.775708 -4.892495  0.262281  2.910213  0.270173  \n",
      "180  0.759320 -6.261446  0.183218  2.264226  0.144105  \n",
      "54   0.819032 -4.649573  0.205558  1.986899  0.316700  \n",
      "159  0.675865 -5.498456  0.234196  2.103014  0.216638  \n",
      "16   0.644692 -5.440040  0.239764  2.264501  0.218164  \n",
      "\n",
      "[5 rows x 22 columns]\n",
      "\n",
      "X_test : \n",
      "     MDVP:Fo(Hz)  MDVP:Fhi(Hz)  MDVP:Flo(Hz)  MDVP:Jitter(%)  \\\n",
      "83        98.804       102.305        87.804         0.00432   \n",
      "12       136.926       159.866       131.276         0.00293   \n",
      "33       202.266       211.604       197.079         0.00180   \n",
      "113      210.141       232.706       185.258         0.00534   \n",
      "171      112.547       133.374       105.715         0.00355   \n",
      "\n",
      "     MDVP:Jitter(Abs)  MDVP:RAP  MDVP:PPQ  Jitter:DDP  MDVP:Shimmer  \\\n",
      "83           0.000040   0.00247   0.00258     0.00742       0.02223   \n",
      "12           0.000020   0.00118   0.00153     0.00355       0.01259   \n",
      "33           0.000009   0.00093   0.00107     0.00278       0.00954   \n",
      "113          0.000030   0.00321   0.00280     0.00964       0.01680   \n",
      "171          0.000030   0.00166   0.00190     0.00499       0.01358   \n",
      "\n",
      "     MDVP:Shimmer(dB)  ...  MDVP:APQ  Shimmer:DDA      NHR     HNR      RPDE  \\\n",
      "83              0.202  ...   0.01552      0.03831  0.00882  22.244  0.576644   \n",
      "12              0.112  ...   0.01140      0.01968  0.00581  25.703  0.460600   \n",
      "33              0.085  ...   0.00719      0.01407  0.00072  32.684  0.368535   \n",
      "113             0.149  ...   0.01301      0.02583  0.00620  23.671  0.441097   \n",
      "171             0.129  ...   0.01140      0.01992  0.00435  26.436  0.413295   \n",
      "\n",
      "          DFA   spread1   spread2        D2       PPE  \n",
      "83   0.772416 -6.025367  0.078202  2.053601  0.177275  \n",
      "12   0.646846 -6.547148  0.152813  2.041277  0.138512  \n",
      "33   0.742133 -7.695734  0.178540  1.544609  0.056141  \n",
      "113  0.722254 -5.963040  0.250283  2.489191  0.177807  \n",
      "171  0.756700 -6.323531  0.218885  2.193412  0.160376  \n",
      "\n",
      "[5 rows x 22 columns]\n",
      "\n",
      "y_train : \n",
      "149    1\n",
      "180    1\n",
      "54     1\n",
      "159    1\n",
      "16     1\n",
      "Name: status, dtype: int64\n",
      "136\n",
      "\n",
      "y_test : \n",
      "83     1\n",
      "12     1\n",
      "33     0\n",
      "113    1\n",
      "171    0\n",
      "Name: status, dtype: int64\n",
      "59\n"
     ]
    }
   ],
   "source": [
    "print('X_train : ')\n",
    "print(X_train.head())\n",
    "print('')\n",
    "print('X_test : ')\n",
    "print(X_test.head())\n",
    "print('')\n",
    "print('y_train : ')\n",
    "print(y_train.head())\n",
    "print(len(y_train))\n",
    "print('')\n",
    "print('y_test : ')\n",
    "print(y_test.head())\n",
    "print(len(y_test))"
   ]
  },
  {
   "cell_type": "markdown",
   "id": "07d41694",
   "metadata": {},
   "source": [
    "## Training model "
   ]
  },
  {
   "cell_type": "markdown",
   "id": "0d990c3c",
   "metadata": {},
   "source": [
    "### Decision Tree"
   ]
  },
  {
   "cell_type": "code",
   "execution_count": 94,
   "id": "2138cc75",
   "metadata": {},
   "outputs": [],
   "source": [
    "from sklearn.metrics import accuracy_score"
   ]
  },
  {
   "cell_type": "code",
   "execution_count": 95,
   "id": "8c8c6c0a",
   "metadata": {},
   "outputs": [
    {
     "name": "stdout",
     "output_type": "stream",
     "text": [
      "Model accuracy score : 91.53%\n"
     ]
    }
   ],
   "source": [
    "from sklearn.tree import DecisionTreeClassifier\n",
    "DT_model = DecisionTreeClassifier(random_state = 234) \n",
    "DT_model.fit(X_train, y_train)\n",
    "y_pred_test = DT_model.predict(X_test)\n",
    "y_pred_train = DT_model.predict(X_train)\n",
    "\n",
    "gt_array = [y_train, y_test] # ground truth\n",
    "pred_array = [y_pred_train, y_pred_test] # predictions\n",
    "print('Model accuracy score : {:0.2%}'. format(accuracy_score(y_test, y_pred_test)))"
   ]
  },
  {
   "cell_type": "code",
   "execution_count": 96,
   "id": "ce95115d",
   "metadata": {},
   "outputs": [
    {
     "name": "stdout",
     "output_type": "stream",
     "text": [
      "Accuracy: 0.9152542372881356\n",
      "Balanced accuracy: 0.9456521739130435\n",
      "Classification report:\n",
      "               precision    recall  f1-score   support\n",
      "\n",
      "           0       0.72      1.00      0.84        13\n",
      "           1       1.00      0.89      0.94        46\n",
      "\n",
      "    accuracy                           0.92        59\n",
      "   macro avg       0.86      0.95      0.89        59\n",
      "weighted avg       0.94      0.92      0.92        59\n",
      "\n"
     ]
    }
   ],
   "source": [
    "from sklearn.metrics import accuracy_score, balanced_accuracy_score, classification_report, roc_curve, auc\n",
    "accuracy = accuracy_score(y_test, y_pred_test)\n",
    "balanced_accuracy = balanced_accuracy_score(y_test, y_pred_test)\n",
    "print(\"Accuracy:\", accuracy)\n",
    "print(\"Balanced accuracy:\", balanced_accuracy)\n",
    "# Calculate and print precision, recall, and F1-score of the whole test set\n",
    "print('Classification report:\\n',classification_report(y_test,y_pred_test))"
   ]
  },
  {
   "cell_type": "code",
   "execution_count": 97,
   "id": "16e6153b",
   "metadata": {},
   "outputs": [
    {
     "data": {
      "image/png": "[encoded data removed]",
      "text/plain": [
       "<Figure size 640x480 with 2 Axes>"
      ]
     },
     "metadata": {},
     "output_type": "display_data"
    }
   ],
   "source": [
    "from sklearn.metrics import confusion_matrix\n",
    "cm = confusion_matrix(y_test, y_pred_test)\n",
    "labels=['Disease', ' No Disease']\n",
    "sns.heatmap(cm, annot=True, fmt='d', xticklabels=labels, yticklabels=labels,)\n",
    "plt.xlabel(\"Predicted\")\n",
    "plt.ylabel(\"Actual\")\n",
    "plt.show()"
   ]
  },
  {
   "cell_type": "code",
   "execution_count": 98,
   "id": "71b1f2c0",
   "metadata": {},
   "outputs": [],
   "source": [
    "# from sklearn.metrics import accuracy_score, balanced_accuracy_score, classification_report, roc_curve, auc\n",
    "# from sklearn.metrics import roc_auc_score\n",
    "# from sklearn.preprocessing import label_binarize\n",
    "# # Get the predicted probabilities for the test set\n",
    "# fpr, tpr, thresholds = roc_curve(y_test, y_pred_test)\n",
    "# roc_auc = auc(fpr, tpr)\n",
    "\n",
    "# # Plot ROC curve\n",
    "# plt.figure()\n",
    "# plt.plot(fpr, tpr, color='darkorange', lw=2, label='ROC curve (AUC = %0.2f)' % roc_auc)\n",
    "# plt.plot([0, 1], [0, 1], color='navy', lw=2, linestyle='--')\n",
    "# plt.xlim([0.0, 1.0])\n",
    "# plt.ylim([0.0, 1.05])\n",
    "# plt.xlabel('False Positive Rate')\n",
    "# plt.ylabel('True Positive Rate')\n",
    "# plt.title('Receiver Operating Characteristic - Decision Tree')\n",
    "# plt.legend(loc=\"lower right\")\n",
    "# plt.show()"
   ]
  },
  {
   "cell_type": "markdown",
   "id": "4d684326",
   "metadata": {},
   "source": [
    "# k fold cross validation "
   ]
  },
  {
   "cell_type": "code",
   "execution_count": 99,
   "id": "7d418282",
   "metadata": {},
   "outputs": [
    {
     "name": "stdout",
     "output_type": "stream",
     "text": [
      "Fold:1, Train set: 170, Test set:25\n",
      "Fold:2, Train set: 170, Test set:25\n",
      "Fold:3, Train set: 170, Test set:25\n",
      "Fold:4, Train set: 171, Test set:24\n",
      "Fold:5, Train set: 171, Test set:24\n",
      "Fold:6, Train set: 171, Test set:24\n",
      "Fold:7, Train set: 171, Test set:24\n",
      "Fold:8, Train set: 171, Test set:24\n",
      "Scores for each fold are: [92.   84.   92.   87.5  83.33 70.83 91.67 91.67]\n",
      "Average score: 86.62 %\n"
     ]
    }
   ],
   "source": [
    "from sklearn.model_selection import KFold, cross_val_score\n",
    "from sklearn import datasets\n",
    "from sklearn import model_selection\n",
    "from sklearn.tree import DecisionTreeClassifier\n",
    "kf =KFold(n_splits=8, shuffle=True, random_state=42)\n",
    "cnt = 1\n",
    "# split()  method generate indices to split data into training and test set.\n",
    "for train_index, test_index in kf.split(X, y):\n",
    "    print(f'Fold:{cnt}, Train set: {len(train_index)}, Test set:{len(test_index)}')\n",
    "    cnt += 1\n",
    "score1 = cross_val_score(DecisionTreeClassifier(random_state = 234) , X, y, cv= kf, scoring=\"accuracy\")\n",
    "print(f'Scores for each fold are: {score1.round(4)*100}')\n",
    "print(f'Average score: {\"{:.2f}\".format(score1.mean()*100)}',\"%\")"
   ]
  },
  {
   "cell_type": "markdown",
   "id": "135b8836",
   "metadata": {},
   "source": [
    "# Standard scaller"
   ]
  },
  {
   "cell_type": "code",
   "execution_count": 100,
   "id": "1bbf3c0f",
   "metadata": {},
   "outputs": [],
   "source": [
    "X=(df_parkinson.iloc[:,1:]).drop(columns=[\"status\"])\n",
    "y = df_parkinson.status\n",
    "X_train, X_test, y_train, y_test = train_test_split( X, y, test_size=0.3, random_state=0)"
   ]
  },
  {
   "cell_type": "code",
   "execution_count": 101,
   "id": "47fd3f13",
   "metadata": {},
   "outputs": [
    {
     "name": "stdout",
     "output_type": "stream",
     "text": [
      "Accuracy: 0.8983050847457628\n"
     ]
    }
   ],
   "source": [
    "\n",
    "# Initialize the StandardScaler\n",
    "scaler = StandardScaler()\n",
    "\n",
    "# Fit and transform the training data\n",
    "X_train_scaled = scaler.fit_transform(X_train)\n",
    "\n",
    "# Transform the testing data\n",
    "X_test_scaled = scaler.transform(X_test)\n",
    "\n",
    "# Initialize and train the decision tree model\n",
    "model = DecisionTreeClassifier()\n",
    "model.fit(X_train_scaled, y_train)\n",
    "\n",
    "# Evaluate the model\n",
    "accuracy = model.score(X_test_scaled, y_test)\n",
    "print(\"Accuracy:\", accuracy)"
   ]
  }
 ],
 "metadata": {
  "kernelspec": {
   "display_name": "Python 3 (ipykernel)",
   "language": "python",
   "name": "python3"
  },
  "language_info": {
   "codemirror_mode": {
    "name": "ipython",
    "version": 3
   },
   "file_extension": ".py",
   "mimetype": "text/x-python",
   "name": "python",
   "nbconvert_exporter": "python",
   "pygments_lexer": "ipython3",
   "version": "3.10.4"
  }
 },
 "nbformat": 4,
 "nbformat_minor": 5
}
